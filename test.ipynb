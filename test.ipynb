{
 "cells": [
  {
   "cell_type": "code",
   "execution_count": null,
   "metadata": {},
   "outputs": [],
   "source": [
    "import sys\n",
    "from awsglue.transforms import *\n",
    "from awsglue.utils import getResolvedOptions\n",
    "from pyspark.context import SparkContext\n",
    "from awsglue.context import GlueContext\n",
    "from awsglue.job import Job\n",
    "\n",
    "## @params: [JOB_NAME]\n",
    "args = getResolvedOptions(sys.argv, ['JOB_NAME'])\n",
    "\n",
    "sc = SparkContext()\n",
    "glueContext = GlueContext(sc)\n",
    "spark = glueContext.spark_session\n",
    "job = Job(glueContext)\n",
    "job.init(args['JOB_NAME'], args)\n",
    "## @type: DataSource\n",
    "## @args: [database = \"test\", table_name = \"datasurge_internal\", transformation_ctx = \"datasource0\"]\n",
    "## @return: datasource0\n",
    "## @inputs: []\n",
    "datasource0 = glueContext.create_dynamic_frame.from_catalog(database = \"test\", table_name = \"datasurge_internal\", transformation_ctx = \"datasource0\")\n",
    "## @type: ApplyMapping\n",
    "## @args: [mapping = [(\"customerid\", \"string\", \"customerid\", \"string\"), (\"gender\", \"string\", \"gender\", \"string\"), (\"seniorcitizen\", \"long\", \"seniorcitizen\", \"long\"), (\"partner\", \"string\", \"partner\", \"string\"), (\"dependents\", \"string\", \"dependents\", \"string\"), (\"tenure\", \"long\", \"tenure\", \"long\"), (\"phoneservice\", \"string\", \"phoneservice\", \"string\"), (\"multiplelines\", \"string\", \"multiplelines\", \"string\"), (\"internetservice\", \"string\", \"internetservice\", \"string\"), (\"onlinesecurity\", \"string\", \"onlinesecurity\", \"string\"), (\"onlinebackup\", \"string\", \"onlinebackup\", \"string\"), (\"deviceprotection\", \"string\", \"deviceprotection\", \"string\"), (\"techsupport\", \"string\", \"techsupport\", \"string\"), (\"streamingtv\", \"string\", \"streamingtv\", \"string\"), (\"streamingmovies\", \"string\", \"streamingmovies\", \"string\"), (\"contract\", \"string\", \"contract\", \"string\"), (\"paperlessbilling\", \"string\", \"paperlessbilling\", \"string\"), (\"paymentmethod\", \"string\", \"paymentmethod\", \"string\"), (\"monthlycharges\", \"double\", \"monthlycharges\", \"double\"), (\"totalcharges\", \"double\", \"totalcharges\", \"double\"), (\"churn\", \"string\", \"churn\", \"string\")], transformation_ctx = \"applymapping1\"]\n",
    "## @return: applymapping1\n",
    "## @inputs: [frame = datasource0]\n",
    "applymapping1 = ApplyMapping.apply(frame = datasource0, mappings = [(\"customerid\", \"string\", \"customerid\", \"string\"), (\"gender\", \"string\", \"gender\", \"string\"), (\"seniorcitizen\", \"long\", \"seniorcitizen\", \"long\"), (\"partner\", \"string\", \"partner\", \"string\"), (\"dependents\", \"string\", \"dependents\", \"string\"), (\"tenure\", \"long\", \"tenure\", \"long\"), (\"phoneservice\", \"string\", \"phoneservice\", \"string\"), (\"multiplelines\", \"string\", \"multiplelines\", \"string\"), (\"internetservice\", \"string\", \"internetservice\", \"string\"), (\"onlinesecurity\", \"string\", \"onlinesecurity\", \"string\"), (\"onlinebackup\", \"string\", \"onlinebackup\", \"string\"), (\"deviceprotection\", \"string\", \"deviceprotection\", \"string\"), (\"techsupport\", \"string\", \"techsupport\", \"string\"), (\"streamingtv\", \"string\", \"streamingtv\", \"string\"), (\"streamingmovies\", \"string\", \"streamingmovies\", \"string\"), (\"contract\", \"string\", \"contract\", \"string\"), (\"paperlessbilling\", \"string\", \"paperlessbilling\", \"string\"), (\"paymentmethod\", \"string\", \"paymentmethod\", \"string\"), (\"monthlycharges\", \"double\", \"monthlycharges\", \"double\"), (\"totalcharges\", \"double\", \"totalcharges\", \"double\"), (\"churn\", \"string\", \"churn\", \"string\")], transformation_ctx = \"applymapping1\")\n",
    "## @type: ResolveChoice\n",
    "## @args: [choice = \"make_struct\", transformation_ctx = \"resolvechoice2\"]\n",
    "## @return: resolvechoice2\n",
    "## @inputs: [frame = applymapping1]\n",
    "resolvechoice2 = ResolveChoice.apply(frame = applymapping1, choice = \"make_struct\", transformation_ctx = \"resolvechoice2\")\n",
    "## @type: DropNullFields\n",
    "## @args: [transformation_ctx = \"dropnullfields3\"]\n",
    "## @return: dropnullfields3\n",
    "## @inputs: [frame = resolvechoice2]\n",
    "dropnullfields3 = DropNullFields.apply(frame = resolvechoice2, transformation_ctx = \"dropnullfields3\")\n",
    "## @type: DataSink\n",
    "## @args: [connection_type = \"s3\", connection_options = {\"path\": \"s3://datasurge-internal/data/github_actions_result\"}, format = \"parquet\", transformation_ctx = \"datasink4\"]\n",
    "## @return: datasink4\n",
    "## @inputs: [frame = dropnullfields3]\n",
    "datasink4 = glueContext.write_dynamic_frame.from_options(frame = dropnullfields3, connection_type = \"s3\", connection_options = {\"path\": \"s3://datasurge-internal/data/github_actions_result\"}, format = \"parquet\", transformation_ctx = \"datasink4\")\n",
    "job.commit()"
   ]
  }
 ],
 "metadata": {
  "language_info": {
   "name": "python"
  },
  "orig_nbformat": 4
 },
 "nbformat": 4,
 "nbformat_minor": 2
}
