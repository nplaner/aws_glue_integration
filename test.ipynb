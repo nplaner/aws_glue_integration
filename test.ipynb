{
 "cells": [
  {
   "cell_type": "code",
   "execution_count": null,
   "metadata": {},
   "outputs": [],
   "source": [
    "import sys\n",
    "from awsglue.transforms import *\n",
    "from awsglue.utils import getResolvedOptions\n",
    "from pyspark.context import SparkContext\n",
    "from awsglue.context import GlueContext\n",
    "from awsglue.job import Job\n",
    "\n",
    "## @params: [JOB_NAME]\n",
    "args = getResolvedOptions(sys.argv, ['JOB_NAME'])\n",
    "\n",
    "sc = SparkContext()\n",
    "glueContext = GlueContext(sc)\n",
    "spark = glueContext.spark_session\n",
    "job = Job(glueContext)\n",
    "job.init(args['JOB_NAME'], args)\n",
    "## @type: DataSource\n",
    "## @args: [database = \"customers_database\", table_name = \"customers_csv\", transformation_ctx = \"datasource0\"]\n",
    "## @return: datasource0\n",
    "## @inputs: []\n",
    "datasource0 = glueContext.create_dynamic_frame.from_catalog(database = \"customers_database\", table_name = \"customers_csv\", transformation_ctx = \"datasource0\")\n",
    "## @type: ApplyMapping\n",
    "## @args: [mapping = [(\"customerid\", \"long\", \"customerid\", \"long\"), (\"namestyle\", \"boolean\", \"namestyle\", \"boolean\"), (\"title\", \"string\", \"title\", \"string\"), (\"firstname\", \"string\", \"firstname\", \"string\"), (\"middlename\", \"string\", \"middlename\", \"string\"), (\"lastname\", \"string\", \"lastname\", \"string\"), (\"suffix\", \"string\", \"suffix\", \"string\"), (\"companyname\", \"string\", \"companyname\", \"string\"), (\"salesperson\", \"string\", \"salesperson\", \"string\"), (\"emailaddress\", \"string\", \"emailaddress\", \"string\"), (\"phone\", \"string\", \"phone\", \"string\"), (\"passwordhash\", \"string\", \"passwordhash\", \"string\"), (\"passwordsalt\", \"string\", \"passwordsalt\", \"string\"), (\"rowguid\", \"string\", \"rowguid\", \"string\"), (\"modifieddate\", \"string\", \"modifieddate\", \"string\"), (\"dataload\", \"string\", \"dataload\", \"string\")], transformation_ctx = \"applymapping1\"]\n",
    "## @return: applymapping1\n",
    "## @inputs: [frame = datasource0]\n",
    "applymapping1 = ApplyMapping.apply(frame = datasource0, mappings = [(\"customerid\", \"long\", \"customerid\", \"long\"), (\"namestyle\", \"boolean\", \"namestyle\", \"boolean\"), (\"title\", \"string\", \"title\", \"string\"), (\"firstname\", \"string\", \"firstname\", \"string\"), (\"middlename\", \"string\", \"middlename\", \"string\"), (\"lastname\", \"string\", \"lastname\", \"string\"), (\"suffix\", \"string\", \"suffix\", \"string\"), (\"companyname\", \"string\", \"companyname\", \"string\"), (\"salesperson\", \"string\", \"salesperson\", \"string\"), (\"emailaddress\", \"string\", \"emailaddress\", \"string\"), (\"phone\", \"string\", \"phone\", \"string\"), (\"passwordhash\", \"string\", \"passwordhash\", \"string\"), (\"passwordsalt\", \"string\", \"passwordsalt\", \"string\"), (\"rowguid\", \"string\", \"rowguid\", \"string\"), (\"modifieddate\", \"string\", \"modifieddate\", \"string\"), (\"dataload\", \"string\", \"dataload\", \"string\")], transformation_ctx = \"applymapping1\")\n",
    "## @type: DataSink\n",
    "## @args: [connection_type = \"s3\", connection_options = {\"path\": \"s3://datasurge-internal/data/github_actions_result\"}, format = \"csv\", transformation_ctx = \"datasink2\"]\n",
    "## @return: datasink2\n",
    "## @inputs: [frame = applymapping1]\n",
    "datasink2 = glueContext.write_dynamic_frame.from_options(frame = applymapping1, connection_type = \"s3\", connection_options = {\"path\": \"s3://datasurge-internal/data/github_actions_result\"}, format = \"csv\", transformation_ctx = \"datasink2\")\n",
    "job.commit()"
   ]
  }
 ],
 "metadata": {
  "language_info": {
   "name": "python"
  },
  "orig_nbformat": 4
 },
 "nbformat": 4,
 "nbformat_minor": 2
}
